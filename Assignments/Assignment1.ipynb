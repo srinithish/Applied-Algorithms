{
 "cells": [
  {
   "cell_type": "code",
   "execution_count": null,
   "metadata": {},
   "outputs": [],
   "source": []
  },
  {
   "cell_type": "markdown",
   "metadata": {},
   "source": [
    "### Q1. \n",
    "Illustrate the operation of Insertion-sort algorithm on array\n",
    "A=<31,41,59,26,41,58>."
   ]
  },
  {
   "cell_type": "raw",
   "metadata": {},
   "source": [
    "def insertionSort(A):\n",
    "    for i in range(len(A)):\n",
    "        j = i\n",
    "        while (j>0 and A[j-1]>A[j]):\n",
    "            swap(A[j],A[j-1])\n",
    "            j = j-1\n",
    "    return A"
   ]
  },
  {
   "cell_type": "markdown",
   "metadata": {},
   "source": [
    "We start by looping over the array.\n",
    "\n",
    "1. i=0, A[0]=31; As this is the first element of the array we will skip this element\n",
    "    A=<31,41,59,26,41,58> \n",
    "   \n",
    "2. i=1, A[1]=41; Check if this element is less than the previous elements. As 41>31 we will skip to the next iteration\n",
    "    A=<31,41,59,26,41,58>\n",
    "    \n",
    "3. i=2, A[2]=59; As 59 is greater than the previous elements we will skip to the next iteration\n",
    "    A=<31,41,59,26,41,58>\n",
    "    \n",
    "4. i=3, A[3]=26; As 26<59 we will swap these elements. \n",
    "    A=<31,41,26,59,41,58>\n",
    "    \n",
    "    As 26<41 we will swap again\n",
    "    A=<31,26,41,59,41,58>\n",
    "    \n",
    "    As 26<31 we will swap again\n",
    "    A=<26,31,41,59,41,58>\n",
    "    \n",
    "5. i=4, A[4]=41; As 41<59 we will swap these elements.\n",
    "    A=<26,31,41,41,59,58>\n",
    "    \n",
    "    As 41==41, we will skip to next iteration\n",
    "    A=<26,31,41,41,59,58>\n",
    "    \n",
    "6. i=5, A[5]=58; As 58<59 we will swap these elements.\n",
    "    A=<26,31,41,41,58,59>\n",
    "    \n",
    "After looping through each element we get a sorted array."
   ]
  },
  {
   "cell_type": "markdown",
   "metadata": {},
   "source": [
    "### Q2. \n",
    "The input to the algorithm Unknown illustrated below is an array A of N\n",
    "numbers. (1) what is the output of the algorithm? (2) using big-O notation to show\n",
    "the running time of the algorithm."
   ]
  },
  {
   "cell_type": "raw",
   "metadata": {},
   "source": [
    "Input: Array A of N numbers;\n",
    "Unknown(A)\n",
    "    for j = 1 to N-1\n",
    "        if A[N] < A[j]\n",
    "            exchange A[j] and A[N]\n",
    "    Output A[N];"
   ]
  },
  {
   "cell_type": "raw",
   "metadata": {},
   "source": [
    "1. As we keep swapping elements at A[N] with A[j] whenever A[N]<A[j], the output will be the largest element in the array.\n",
    "2. As we will iterate through every element in the array once, the running time of this algorithm is O(n) "
   ]
  },
  {
   "cell_type": "markdown",
   "metadata": {},
   "source": [
    "### Q3. \n",
    "Given the input of k sorted arrays, each containing N distinct integers in\n",
    "increasing order, devise an O(kN) algorithm to output the number of integers that\n",
    "occur in each of the k input arrays"
   ]
  },
  {
   "cell_type": "code",
   "execution_count": null,
   "metadata": {},
   "outputs": [],
   "source": []
  },
  {
   "cell_type": "markdown",
   "metadata": {},
   "source": [
    "### Q5. \n",
    "Let A[1..n] be an array of n distinct numbers. If i < j and A[i] > A[j], then\n",
    "the pair (i, j) is called an inversion of A. a) List the five inversions of the array <2,\n",
    "3, 8, 6, 1>. b) What array with elements from the set {1, 2, …, n} has the most\n",
    "inversions? How many does it have? c) What is the relationship between the\n",
    "running time of insertion sort and the number inversions in the input array?\n",
    "Justify your answer."
   ]
  },
  {
   "cell_type": "markdown",
   "metadata": {},
   "source": [
    "a) Following are indices of five inversion pairs of the array <2, 3, 8, 6, 1> : <br>\n",
    "i. (1,5)\n",
    "ii. (2,5)\n",
    "iii. (3,4)\n",
    "iv. (3,5)\n",
    "v. (4,5)"
   ]
  },
  {
   "cell_type": "markdown",
   "metadata": {},
   "source": [
    "b) A descending sorted array would have the most inversions. \n",
    "It will have n-1 inversions for the first element, n-2 for the second and 1 for the second last element.\n",
    "The solution would be 1+2+..n-1 which is (n-1)(n)/2"
   ]
  },
  {
   "cell_type": "markdown",
   "metadata": {},
   "source": [
    "c) The running time of insertion sort would be directly proportional to the number of inversions.\n",
    "This is because, in insertion sort all the inversions would be swapped. If there are no inversions, there will be no swapping which means the array is already sorted."
   ]
  },
  {
   "cell_type": "markdown",
   "metadata": {},
   "source": [
    "### Q6"
   ]
  },
  {
   "cell_type": "code",
   "execution_count": 8,
   "metadata": {},
   "outputs": [],
   "source": [
    "import math"
   ]
  },
  {
   "cell_type": "code",
   "execution_count": 11,
   "metadata": {},
   "outputs": [],
   "source": [
    "# Inputs\n",
    "\n",
    "a = [1,2,3,4,5]\n",
    "b = [4,5,6,7]\n",
    "\n",
    "# a.append(float(\"inf\"))\n",
    "# b.append(float(\"inf\"))"
   ]
  },
  {
   "cell_type": "code",
   "execution_count": 2,
   "metadata": {},
   "outputs": [
    {
     "ename": "IndexError",
     "evalue": "list index out of range",
     "output_type": "error",
     "traceback": [
      "\u001b[1;31m---------------------------------------------------------------------------\u001b[0m",
      "\u001b[1;31mIndexError\u001b[0m                                Traceback (most recent call last)",
      "\u001b[1;32m<ipython-input-2-4117014b2ae4>\u001b[0m in \u001b[0;36m<module>\u001b[1;34m()\u001b[0m\n\u001b[0;32m     34\u001b[0m \u001b[0mi\u001b[0m\u001b[1;33m,\u001b[0m\u001b[0mj\u001b[0m \u001b[1;33m=\u001b[0m \u001b[0msplitArrays\u001b[0m\u001b[1;33m(\u001b[0m\u001b[0ma\u001b[0m\u001b[1;33m,\u001b[0m\u001b[0mb\u001b[0m\u001b[1;33m,\u001b[0m\u001b[1;36m8\u001b[0m\u001b[1;33m)\u001b[0m\u001b[1;33m\u001b[0m\u001b[0m\n\u001b[0;32m     35\u001b[0m \u001b[1;31m# print(i,j)\u001b[0m\u001b[1;33m\u001b[0m\u001b[1;33m\u001b[0m\u001b[0m\n\u001b[1;32m---> 36\u001b[1;33m \u001b[0mfindKsmallest\u001b[0m\u001b[1;33m(\u001b[0m\u001b[0ma\u001b[0m\u001b[1;33m,\u001b[0m\u001b[0mb\u001b[0m\u001b[1;33m,\u001b[0m\u001b[0mi\u001b[0m\u001b[1;33m,\u001b[0m\u001b[0mj\u001b[0m\u001b[1;33m)\u001b[0m\u001b[1;33m\u001b[0m\u001b[0m\n\u001b[0m\u001b[0;32m     37\u001b[0m \u001b[1;33m\u001b[0m\u001b[0m\n",
      "\u001b[1;32m<ipython-input-2-4117014b2ae4>\u001b[0m in \u001b[0;36mfindKsmallest\u001b[1;34m(a, b, i, j)\u001b[0m\n\u001b[0;32m      7\u001b[0m \u001b[1;31m#         return max(a[i],b[j])\u001b[0m\u001b[1;33m\u001b[0m\u001b[1;33m\u001b[0m\u001b[0m\n\u001b[0;32m      8\u001b[0m \u001b[1;33m\u001b[0m\u001b[0m\n\u001b[1;32m----> 9\u001b[1;33m     \u001b[1;32mif\u001b[0m \u001b[0ma\u001b[0m\u001b[1;33m[\u001b[0m\u001b[0mi\u001b[0m\u001b[1;33m]\u001b[0m \u001b[1;33m>\u001b[0m \u001b[0mb\u001b[0m\u001b[1;33m[\u001b[0m\u001b[0mj\u001b[0m\u001b[1;33m+\u001b[0m\u001b[1;36m1\u001b[0m\u001b[1;33m]\u001b[0m\u001b[1;33m:\u001b[0m\u001b[1;33m\u001b[0m\u001b[0m\n\u001b[0m\u001b[0;32m     10\u001b[0m         \u001b[0mi\u001b[0m \u001b[1;33m=\u001b[0m \u001b[0mi\u001b[0m\u001b[1;33m-\u001b[0m\u001b[1;36m1\u001b[0m\u001b[1;33m\u001b[0m\u001b[0m\n\u001b[0;32m     11\u001b[0m         \u001b[0mj\u001b[0m \u001b[1;33m=\u001b[0m \u001b[0mj\u001b[0m\u001b[1;33m+\u001b[0m\u001b[1;36m1\u001b[0m\u001b[1;33m\u001b[0m\u001b[0m\n",
      "\u001b[1;31mIndexError\u001b[0m: list index out of range"
     ]
    }
   ],
   "source": [
    "# Append last element as infinity\n",
    "def findKsmallest(a,b,i,j):\n",
    "    a_last = len(a)-2\n",
    "    b_last = len(b)-2\n",
    "    \n",
    "#     if i<=0 or j<=0 or i>=a_last or j>=b_last:\n",
    "#         return max(a[i],b[j])\n",
    "    \n",
    "    if a[i] > b[j+1]:\n",
    "        i = i-1\n",
    "        j = j+1\n",
    "        return findKsmallest(a,b,i,j)\n",
    "    \n",
    "    elif b[j] > a[i+1]:\n",
    "        i = i+1\n",
    "        j = j-1\n",
    "        return findKsmallest(a,b,i,j)\n",
    "    \n",
    "    return max(a[i],b[j])\n",
    "\n",
    "def splitArrays(a,b,k):\n",
    "    m = len(a)\n",
    "    n = len(b)\n",
    "    \n",
    "    if k%2 == 0:\n",
    "        i = int(k/2) - 1\n",
    "        j = int(k/2) - 1\n",
    "    else:\n",
    "        i = int(k/2)\n",
    "        j = int(k/2) - 1\n",
    "        \n",
    "    return i,j\n",
    "\n",
    "i,j = splitArrays(a,b,8)\n",
    "# print(i,j)\n",
    "findKsmallest(a,b,i,j)"
   ]
  },
  {
   "cell_type": "code",
   "execution_count": 16,
   "metadata": {},
   "outputs": [
    {
     "data": {
      "text/plain": [
       "2"
      ]
     },
     "execution_count": 16,
     "metadata": {},
     "output_type": "execute_result"
    }
   ],
   "source": [
    "def kthlargest(arr1, arr2, k):\n",
    "    if len(arr1) == 0:\n",
    "        return arr2[k]\n",
    "    elif len(arr2) == 0:\n",
    "        return arr1[k]\n",
    "\n",
    "    mida1 = int(len(arr1)/2)\n",
    "    mida2 = int(len(arr2)/2)\n",
    "    if mida1+mida2<k:\n",
    "        if arr1[mida1]>arr2[mida2]:\n",
    "            return kthlargest(arr1, arr2[mida2+1:], k-mida2-1)\n",
    "        else:\n",
    "            return kthlargest(arr1[mida1+1:], arr2, k-mida1-1)\n",
    "    else:\n",
    "        if arr1[mida1]>arr2[mida2]:\n",
    "            return kthlargest(arr1[:mida1], arr2, k)\n",
    "        else:\n",
    "            return kthlargest(arr1, arr2[:mida2], k)\n",
    "        \n",
    "kthlargest(a,b,1)"
   ]
  },
  {
   "cell_type": "markdown",
   "metadata": {},
   "source": [
    "### Q7"
   ]
  }
 ],
 "metadata": {
  "kernelspec": {
   "display_name": "Python 3",
   "language": "python",
   "name": "python3"
  },
  "language_info": {
   "codemirror_mode": {
    "name": "ipython",
    "version": 3
   },
   "file_extension": ".py",
   "mimetype": "text/x-python",
   "name": "python",
   "nbconvert_exporter": "python",
   "pygments_lexer": "ipython3",
   "version": "3.6.5"
  }
 },
 "nbformat": 4,
 "nbformat_minor": 2
}
