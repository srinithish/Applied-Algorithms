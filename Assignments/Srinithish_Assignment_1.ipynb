{
 "cells": [
  {
   "cell_type": "markdown",
   "metadata": {},
   "source": [
    "## Assignement 1"
   ]
  },
  {
   "cell_type": "markdown",
   "metadata": {},
   "source": [
    "### Question 1"
   ]
  },
  {
   "cell_type": "raw",
   "metadata": {},
   "source": [
    "Pseudo code\n",
    "Note : idexing is from 1 to N for the below case\n",
    "We start by looping over the array.\n",
    "\n",
    "1. A= [31,41,59,26,41,58] \n",
    "   i=1, A[1]=31; Since this is the first element  we would only start checking from the 2nd postion and skip this one\n",
    "    \n",
    "   \n",
    "2. A= [31,41,59,26,41,58] \n",
    "    i=2, A[2]=41; we will check if this element is less than the previous element i.e A[1] = 31. As 41 is greater than 31, it is in the correct order and we would move to the next element.\n",
    "    \n",
    "    \n",
    "3. A = [31,41,59,26,41,58] \n",
    "    i=3, A[3]=59; Since 59 is greater than the previous element i.e A[2] = 41 , we will move to the next index\n",
    "    \n",
    "4. A= [31,41,59,26,41,58] \n",
    "    i=4, A[4]=26 which is less than 59 we'll move the element 59 to position 4 and 26 to position 3\n",
    "    now A =  [31,41,26,59,41,58]\n",
    "    \n",
    "    we observe again that, A[3] = 26 is less than previous element 41\n",
    "    hence we move the element 41 to position 3 and element 26 position 2 \n",
    "    now A = [31,26,41,59,41,58]\n",
    "    \n",
    "    we observe again that, A[2] = 26 is less than previous element 31\n",
    "    hence we move the element 26 to position 1 and element 31 position 2 \n",
    "    now A =  [26,31,41,59,41,58]\n",
    "    \n",
    "    \n",
    "5. i=5, A[5] = 41; Since 41 < A[4] = 59 we will interchange these elements.\n",
    "    A = [26,31,41,41,59,58]\n",
    "    \n",
    "    \n",
    "   \n",
    "    \n",
    "6. i=6, A[6]= 58 ; As 58 < 59 and we intercgange these elements\n",
    "    A = [26,31,41,41,58,59]\n",
    "    \n",
    "We have hence got a sorted array"
   ]
  },
  {
   "cell_type": "code",
   "execution_count": null,
   "metadata": {},
   "outputs": [],
   "source": [
    "##Question 1\n",
    "def insertionSort(ListOfNum):\n",
    "    \n",
    "    totalNums = len(ListOfNum)\n",
    "    \n",
    "    for i in range(1, totalNums):\n",
    "        \n",
    "        numberToCheck = ListOfNum[i]\n",
    "        \n",
    "        j = i-1\n",
    "        \n",
    "        while(j>=0 and ListOfNum[j]>numberToCheck):\n",
    "            ## move all the elements to one step right\n",
    "            ListOfNum[j+1] = ListOfNum[j]\n",
    "            j  = j - 1\n",
    "        ###at the required position insert the element\n",
    "        ListOfNum[j+1] = numberToCheck\n",
    "        \n",
    "    return True\n"
   ]
  },
  {
   "cell_type": "markdown",
   "metadata": {},
   "source": [
    "### Question 2"
   ]
  },
  {
   "cell_type": "raw",
   "metadata": {},
   "source": [
    "def unknown(ListOfNum):                              cost   times\n",
    "    totalNums = len(ListOfNum)                       c1      1\n",
    "    for i in range(totalNums-1):                     c2      n-1 times\n",
    "        if ListOfNum[totalNums-1] < ListOfNum[i]:    c3      n-1 times\n",
    "            temp = ListOfNum[i]                      c4      n-1 times\n",
    "            ListOfNum[i] = ListOfNum[totalNums-1]    c5      n-1 times\n",
    "            ListOfNum[totalNums-1] = temp            c6      n-1 times\n",
    "            \n",
    "            \n",
    "    return ListOfNum[totalNums-1]                   \n",
    "    \n"
   ]
  },
  {
   "cell_type": "code",
   "execution_count": null,
   "metadata": {},
   "outputs": [],
   "source": [
    "##Question 2\n",
    "def unknown(ListOfNum):\n",
    "    totalNums = len(ListOfNum)\n",
    "    for i in range(totalNums-1):\n",
    "        if ListOfNum[totalNums-1] < ListOfNum[i]: \n",
    "            temp = ListOfNum[i]\n",
    "            ListOfNum[i] = ListOfNum[totalNums-1]\n",
    "            ListOfNum[totalNums-1] = temp\n",
    "            \n",
    "            \n",
    "    return ListOfNum[totalNums-1]\n"
   ]
  },
  {
   "cell_type": "markdown",
   "metadata": {},
   "source": [
    "1. As we  loop across the array since at every step we wouold be comparing the current element at last index with the loop index and replacing the largest of the two at the last index , at the end of the loop we would have the maximum array at the position.\n",
    "2. The running time of the algorithm is same as finding the maximum i.e\n",
    " $c_1 + (c_2+c_3+c_4+c_5+c_6) * (n-1)$ = O(N-1) = O(N)"
   ]
  },
  {
   "cell_type": "markdown",
   "metadata": {},
   "source": [
    "### Question 3\n",
    "\n",
    "\n",
    "Basically pick up every list intersect with the next list in the same way we do merging , just that when the elements are equal keep dumping them in another list. Now after completing N+N elemets of the first and second list , re assign the common elemetns to the old intersection list and continue this process till all lists are collapsed.\n",
    "This takes 2N for comparing two lists and getting the common elements and since there are K-1 list pairs i.e 1,2 and 2,3 and 3,4 so on.... we have the complexity as <br> O(2(k-1)N) = O(kN)"
   ]
  },
  {
   "cell_type": "raw",
   "metadata": {},
   "source": [
    "\n",
    "\n",
    "\n",
    "## pseudo code\n",
    "\n",
    "intersectionElements = inputListOfLists[0] // assign first list as the intersection list\n",
    "\n",
    "for eachList in inputListOfLists[1:]: // pick up each array in the list of the lists and progressively intersect \n",
    "                                      // with the next list\n",
    "    \n",
    "    LenI = len(intersectionElements)\n",
    "    LenJ = len(eachList)\n",
    "    \n",
    "    while(indexIntersection < LenI and indexNextList < LenJ):\n",
    "        \n",
    "        \n",
    "        if intersectionElements[indexIntersection] == eachList[indexNextList]: // if the elements in the previous result of                                                                                     // intercsection are equal , move both indexes\n",
    "            \n",
    "            newIntersectionList.append(intersectionElements[indexIntersection])\n",
    "            indexIntersection += 1\n",
    "            indexNextList += 1\n",
    "\n",
    "\n",
    "        elif intersectionElements[indexIntersection] > nextList[indexNextList]: //else move only the index that is lesser value\n",
    "            indexNextList += 1\n",
    "\n",
    "        elif intersectionElements[indexIntersection] < nextList[indexNextList]:\n",
    "            indexIntersection +=1\n",
    "    intersectionElements = newIntersectionList\n",
    "\n",
    "return intersectionElements\n",
    "\n",
    "\n",
    "\n"
   ]
  },
  {
   "cell_type": "code",
   "execution_count": 2,
   "metadata": {},
   "outputs": [],
   "source": [
    "\n",
    "##question 3\n",
    "\n",
    "## O(2(k-1)N) solution\n",
    "def findCommonElements(inputListOfLists):\n",
    "#    inputListOfLists = [[1,3,5,7,9,11],[2,4,6,8,9,11],[4,5,6,7,9,11]]\n",
    "#    k = 3\n",
    "#    N = len(inputListOfLists[0])\n",
    "    oldIntersectionList = inputListOfLists[0]\n",
    "    \n",
    "    for nextList in inputListOfLists[1:] :\n",
    "        newIntersectionList = []\n",
    "        indexIntersection = 0\n",
    "        indexNextList = 0\n",
    "        LenI = len(oldIntersectionList)\n",
    "        LenJ = len(nextList)\n",
    "        while(indexIntersection < LenI and indexNextList < LenJ):\n",
    "            if oldIntersectionList[indexIntersection] == nextList[indexNextList]:\n",
    "                newIntersectionList.append(oldIntersectionList[indexIntersection])\n",
    "                indexIntersection += 1\n",
    "                indexNextList += 1\n",
    "                \n",
    "                \n",
    "            elif oldIntersectionList[indexIntersection] > nextList[indexNextList]:\n",
    "                indexNextList += 1\n",
    "                \n",
    "            elif oldIntersectionList[indexIntersection] < nextList[indexNextList]:\n",
    "                indexIntersection +=1\n",
    "        oldIntersectionList = list(newIntersectionList)\n",
    "    \n",
    "    return oldIntersectionList"
   ]
  },
  {
   "cell_type": "code",
   "execution_count": 15,
   "metadata": {},
   "outputs": [],
   "source": [
    "\n",
    "## a exact O(KN) solution using dictionaries\n",
    "def findCommonElements(inputListOfLists):\n",
    "    commonElem = {}\n",
    "    k = len(inputListOfLists)\n",
    "    \n",
    "    for i in range(len(inputListOfLists[0])):\n",
    "        for j in range(k):\n",
    "        \n",
    "            elem = inputListOfLists[j][i]\n",
    "    \n",
    "            if elem not in commonElem:\n",
    "                commonElem[elem] = 1\n",
    "            else:\n",
    "                commonElem[elem]+=1\n",
    "                if commonElem[elem]== k:\n",
    "                    print(elem)\n"
   ]
  },
  {
   "cell_type": "markdown",
   "metadata": {},
   "source": [
    "### Question 4"
   ]
  },
  {
   "cell_type": "raw",
   "metadata": {},
   "source": [
    "Pseudo code\n",
    "\n",
    "\n",
    "add 2 extra spaces to the List at the end and denote them by -1\n",
    "\n",
    "inputList = inputList + [-1,-1]  // [2,3,4] = [2,3,4,-1,-1]\n",
    "\n",
    "\n",
    "for index, corresponding value in inpList:\n",
    "    // keep putting the value at their right postions and break if a empty slot comes up\n",
    "    while inpList[value] != value and value != -1:\n",
    "         interchange inpList[value] and inpList[index]\n",
    "         \n",
    "         \n",
    "##output all the missing numbers wherever there is -1 which denotes an empty slot           \n",
    "for i,value in enumerate(inpList):\n",
    "    if value == -1: // missing number as there is an empty slot\n",
    "        print(i)  \n"
   ]
  },
  {
   "cell_type": "markdown",
   "metadata": {},
   "source": [
    "Though there is a while inside for, the total number of iterations that happen is N , as no element that is in its correct postions is reshuffled again. Hence the while loop is executed only when there is element misplaced at the ith position"
   ]
  },
  {
   "cell_type": "code",
   "execution_count": 8,
   "metadata": {},
   "outputs": [],
   "source": [
    "\n",
    "##question 4\n",
    "def find2MissingNums(inpList,numMissing):\n",
    "    ##trails\n",
    "   \n",
    "    inpList.extend([-1 for i in range(numMissing)]) ##denoting empty spaces by -1\n",
    "   \n",
    "    \n",
    "    for position,value in enumerate(inpList):\n",
    "        while inpList[value] != value and value != -1:\n",
    "            temp1 = inpList[value]\n",
    "            \n",
    "            inpList[value] = value\n",
    "            inpList[position] = temp1\n",
    "            value = inpList[position] #updated value\n",
    "    ##print all the missing numbers            \n",
    "    for i,value in enumerate(inpList):\n",
    "        if value == -1: ##missing\n",
    "            print(i)  "
   ]
  },
  {
   "cell_type": "markdown",
   "metadata": {},
   "source": [
    "### Question 5\n",
    "\n",
    "a) below are the five inversion pairs for the given array by definition [2, 3, 8, 6, 1] : <br>\n",
    "With elements, <br>\n",
    "i. (1,2) ii. (1,3) iii. (1,8) iv. (1,6) v.  (6,8) <br>\n",
    "at Index postions <br>\n",
    "i. (1,5) ii. (2,5) iii. (3,4) iv. (3,5) v. (4,5) respectively \n",
    "\n",
    "b) An array sorted in descending order would have the most inversions since every $i^{th}$ element would have i-1 inversions i.e <br>\n",
    "Sum of all inversions are,\n",
    "1+2+..n-1 which is $(n-1)(n)/2$\n",
    "\n",
    "c) The running time or number of iterations is directly proportional to the number of inversions in the array.Infact the running time \\cost is constant times the number of inversions. As at each iteration (while loop) we would check the indices previous to that,and would only break if there are no more inversions."
   ]
  },
  {
   "cell_type": "markdown",
   "metadata": {},
   "source": [
    "### Question 6\n",
    "\n",
    "\n"
   ]
  },
  {
   "cell_type": "raw",
   "metadata": {},
   "source": [
    "\n",
    "## Took help from \n",
    "## https://stackoverflow.com/questions/4607945/how-to-find-the-kth-smallest-element-in-the-union-of-two-sorted-arrays\n",
    "\n",
    "#### pseudo code \n",
    "\n",
    "def getKthLargestElem(k,listM,listN):\n",
    "   \n",
    "    \n",
    "    if one of the array becomes empty\n",
    "        retturn the kth element of the non empty array.\n",
    "    \n",
    "    // capture the first k elements of the m , n arrays \n",
    "    // since the kth largest cannot exist beyond the kth elements.\n",
    "    \n",
    "    listM = listM[:k] \n",
    "    listN = listN[:k]\n",
    "    \n",
    "    newListM = list(listM)\n",
    "    newListN = list(listN)\n",
    "    \n",
    "    midElemIndexM = int(len(newListM)/2) // get the mid element of the both arrays\n",
    "    midElemIndexN = int(len(newListN)/2) \n",
    "    \n",
    "    If k <= midElemIndexM + midElemIndexN :  // if kth value lies inside the mid elemenths of the both arrays\n",
    "        if newListM[midElemIndexM] < newListN[midElemIndexN]:\n",
    "            \n",
    "            // neglect values that are greater than mid Nth elem in N array\n",
    "            \n",
    "            kthElem =  getKthLargestElem(k,newListM,newListN[:midElemIndexN]) \n",
    "            \n",
    "        else if (newListM[midElemIndexM] > newListN[midElemIndexN]):\n",
    "            \n",
    "            // neglect values that are greater than mid Mth elem in M array\n",
    "            \n",
    "            kthElem =  getKthLargestElem(k,newListM[:midElemIndexM],newListN)\n",
    "    \n",
    "    If k > midElemIndexM + midElemIndexN:\n",
    "        \n",
    "        \n",
    "        \n",
    "        if newListM[midElemIndexM] < newListN[midElemIndexN]:   \n",
    "            \n",
    "            // neglect values that are lesser than mid Mth elem in M array\n",
    "            // adjust K such that the lesser numbers are already in your pocket and owuld only wnat the k-pocketed numbers\n",
    "            \n",
    "            kthElem =  getKthLargestElem(k-midElemIndexM-1,newListM[midElemIndexM+1:],newListN)\n",
    "        \n",
    "        else if (newListM[midElemIndexM] > newListN[midElemIndexN]):\n",
    "            \n",
    "            // neglect values that are lesser than mid Nth elem in the N array\n",
    "            // adjust K such that the lesser numbers are already in your pocket and would only want the k-pocketed numbers\n",
    "            \n",
    "            kthElem =  getKthLargestElem(k-midElemIndexN-1,newListM,newListN[midElemIndexN+1:])\n",
    "    \n",
    "    \n",
    "\n",
    "\n",
    "    return kthElem\n"
   ]
  },
  {
   "cell_type": "markdown",
   "metadata": {},
   "source": [
    "### Question 7\n",
    "\n",
    "\n",
    "\n",
    "\n",
    "\n",
    "\n",
    "\n"
   ]
  },
  {
   "cell_type": "markdown",
   "metadata": {},
   "source": [
    "1. Generate a random number in the range of list indeices call it parentIndex as this would be the index of the element that is being transferred from the parent array\n",
    "2. Then generate another random integer within the range of the indices call it empty index denoting the index position of the \n",
    "3. Transfer the element at parent index at empty index place if the element is empty at the empty array.\n",
    "    Else generate another random_int\n",
    "4. This way at every iteration each element has equal chance to be chosen to got at any index in the empty array."
   ]
  },
  {
   "cell_type": "raw",
   "metadata": {},
   "source": [
    "## Pseudo code\n",
    "\n",
    "def permuteNumbers(listOfNums):\n",
    "    lengthN = len(listOfNums)\n",
    "    totalTransferredIndices = 0 // total indexes transferred to another array\n",
    "    \n",
    "    while totalTransferredIndices < lengthN :\n",
    "        randomParentIndex = random_num_in_index_range\n",
    "        if randomParentIndex not in allIndexes:\n",
    "            allIndexes.append(randomParentIndex) // keep track of all idexes\n",
    "            randomEmptyIndex = random_num_in_index_range\n",
    "            if emptyArray[randomEmptyIndex] is empty:\n",
    "                emptyArray[randomEmptyIndex] = listOfNums[randomParentIndex]\n",
    "                totalTransferredIndices+=1"
   ]
  },
  {
   "cell_type": "code",
   "execution_count": 13,
   "metadata": {},
   "outputs": [],
   "source": [
    "###this code takes large amount of time\n",
    "import random\n",
    "def permuteNumbers(listOfNums):\n",
    "    lengthN = len(listOfNums)\n",
    "    totalTransferredIndices = 0\n",
    "    allIndexes = []\n",
    "    emptyArray = ['NOT_INT' for i in range(lengthN)]\n",
    "    while totalTransferredIndices < lengthN :\n",
    "        randomParentIndex = random.randint(0,lengthN-1)\n",
    "        if randomParentIndex not in allIndexes:\n",
    "            allIndexes.append(randomParentIndex)\n",
    "            randomEmptyIndex = random.randint(0,lengthN-1)\n",
    "            if emptyArray[randomEmptyIndex] == 'NOT_INT':\n",
    "                emptyArray[randomEmptyIndex] = listOfNums[randomParentIndex]\n",
    "                totalTransferredIndices+=1\n",
    "\n",
    "                \n"
   ]
  },
  {
   "cell_type": "code",
   "execution_count": 14,
   "metadata": {},
   "outputs": [
    {
     "data": {
      "text/plain": [
       "[3, 4, 2]"
      ]
     },
     "execution_count": 14,
     "metadata": {},
     "output_type": "execute_result"
    }
   ],
   "source": [
    "## another version of ideas borrowed from fisher-yates shuffle alogorithm \n",
    "## https://en.wikipedia.org/wiki/Fisher%E2%80%93Yates_shuffle\n",
    "\n",
    "def permuteNumbers(listOfNums):\n",
    "    lengthN  = len(listOfNums)\n",
    "    for i in range(len(listOfNums)):\n",
    "        \n",
    "        j =  random.randint(0,lengthN-1)\n",
    "        temp = listOfNums[i]\n",
    "        listOfNums[i] = listOfNums[j]\n",
    "        listOfNums[j] = temp\n",
    "    return listOfNums\n"
   ]
  },
  {
   "cell_type": "markdown",
   "metadata": {},
   "source": [
    "Above code geenrates a random interger and since and swaps it with another index that way each of the array element has opportunity to be present at each of the index , hence equal probability."
   ]
  }
 ],
 "metadata": {
  "kernelspec": {
   "display_name": "Python 3",
   "language": "python",
   "name": "python3"
  },
  "language_info": {
   "codemirror_mode": {
    "name": "ipython",
    "version": 3
   },
   "file_extension": ".py",
   "mimetype": "text/x-python",
   "name": "python",
   "nbconvert_exporter": "python",
   "pygments_lexer": "ipython3",
   "version": "3.6.5"
  }
 },
 "nbformat": 4,
 "nbformat_minor": 2
}
